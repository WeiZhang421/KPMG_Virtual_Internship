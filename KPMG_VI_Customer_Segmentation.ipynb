{
 "cells": [
  {
   "cell_type": "code",
   "execution_count": 1,
   "id": "3cc1a1ae",
   "metadata": {},
   "outputs": [],
   "source": [
    "import pandas as pd\n",
    "import numpy as np\n",
    "import seaborn as sns\n",
    "from matplotlib import pyplot as plt"
   ]
  },
  {
   "cell_type": "code",
   "execution_count": 2,
   "id": "70aebc3c",
   "metadata": {},
   "outputs": [
    {
     "data": {
      "text/html": [
       "<div>\n",
       "<style scoped>\n",
       "    .dataframe tbody tr th:only-of-type {\n",
       "        vertical-align: middle;\n",
       "    }\n",
       "\n",
       "    .dataframe tbody tr th {\n",
       "        vertical-align: top;\n",
       "    }\n",
       "\n",
       "    .dataframe thead th {\n",
       "        text-align: right;\n",
       "    }\n",
       "</style>\n",
       "<table border=\"1\" class=\"dataframe\">\n",
       "  <thead>\n",
       "    <tr style=\"text-align: right;\">\n",
       "      <th></th>\n",
       "      <th>transaction_id</th>\n",
       "      <th>product_id</th>\n",
       "      <th>customer_id</th>\n",
       "      <th>transaction_date</th>\n",
       "      <th>online_order</th>\n",
       "      <th>order_status</th>\n",
       "      <th>brand</th>\n",
       "      <th>product_line</th>\n",
       "      <th>product_class</th>\n",
       "      <th>product_size</th>\n",
       "      <th>list_price</th>\n",
       "      <th>standard_cost</th>\n",
       "      <th>product_first_sold_date</th>\n",
       "      <th>profit</th>\n",
       "      <th>days</th>\n",
       "    </tr>\n",
       "  </thead>\n",
       "  <tbody>\n",
       "    <tr>\n",
       "      <th>0</th>\n",
       "      <td>1</td>\n",
       "      <td>2</td>\n",
       "      <td>2950</td>\n",
       "      <td>2017-02-25</td>\n",
       "      <td>0.0</td>\n",
       "      <td>Approved</td>\n",
       "      <td>Solex</td>\n",
       "      <td>Standard</td>\n",
       "      <td>medium</td>\n",
       "      <td>medium</td>\n",
       "      <td>71.49</td>\n",
       "      <td>53.62</td>\n",
       "      <td>2012-12-02</td>\n",
       "      <td>17.87</td>\n",
       "      <td>309</td>\n",
       "    </tr>\n",
       "    <tr>\n",
       "      <th>1</th>\n",
       "      <td>2</td>\n",
       "      <td>3</td>\n",
       "      <td>3120</td>\n",
       "      <td>2017-05-21</td>\n",
       "      <td>1.0</td>\n",
       "      <td>Approved</td>\n",
       "      <td>Trek Bicycles</td>\n",
       "      <td>Standard</td>\n",
       "      <td>medium</td>\n",
       "      <td>large</td>\n",
       "      <td>2091.47</td>\n",
       "      <td>388.92</td>\n",
       "      <td>2014-03-03</td>\n",
       "      <td>1702.55</td>\n",
       "      <td>224</td>\n",
       "    </tr>\n",
       "    <tr>\n",
       "      <th>2</th>\n",
       "      <td>3</td>\n",
       "      <td>37</td>\n",
       "      <td>402</td>\n",
       "      <td>2017-10-16</td>\n",
       "      <td>0.0</td>\n",
       "      <td>Approved</td>\n",
       "      <td>OHM Cycles</td>\n",
       "      <td>Standard</td>\n",
       "      <td>low</td>\n",
       "      <td>medium</td>\n",
       "      <td>1793.43</td>\n",
       "      <td>248.82</td>\n",
       "      <td>1999-07-20</td>\n",
       "      <td>1544.61</td>\n",
       "      <td>76</td>\n",
       "    </tr>\n",
       "    <tr>\n",
       "      <th>3</th>\n",
       "      <td>4</td>\n",
       "      <td>88</td>\n",
       "      <td>3135</td>\n",
       "      <td>2017-08-31</td>\n",
       "      <td>0.0</td>\n",
       "      <td>Approved</td>\n",
       "      <td>Norco Bicycles</td>\n",
       "      <td>Standard</td>\n",
       "      <td>medium</td>\n",
       "      <td>medium</td>\n",
       "      <td>1198.46</td>\n",
       "      <td>381.10</td>\n",
       "      <td>1998-12-16</td>\n",
       "      <td>817.36</td>\n",
       "      <td>122</td>\n",
       "    </tr>\n",
       "    <tr>\n",
       "      <th>4</th>\n",
       "      <td>5</td>\n",
       "      <td>78</td>\n",
       "      <td>787</td>\n",
       "      <td>2017-10-01</td>\n",
       "      <td>1.0</td>\n",
       "      <td>Approved</td>\n",
       "      <td>Giant Bicycles</td>\n",
       "      <td>Standard</td>\n",
       "      <td>medium</td>\n",
       "      <td>large</td>\n",
       "      <td>1765.30</td>\n",
       "      <td>709.48</td>\n",
       "      <td>2015-08-10</td>\n",
       "      <td>1055.82</td>\n",
       "      <td>91</td>\n",
       "    </tr>\n",
       "  </tbody>\n",
       "</table>\n",
       "</div>"
      ],
      "text/plain": [
       "   transaction_id  product_id  customer_id transaction_date  online_order  \\\n",
       "0               1           2         2950       2017-02-25           0.0   \n",
       "1               2           3         3120       2017-05-21           1.0   \n",
       "2               3          37          402       2017-10-16           0.0   \n",
       "3               4          88         3135       2017-08-31           0.0   \n",
       "4               5          78          787       2017-10-01           1.0   \n",
       "\n",
       "  order_status           brand product_line product_class product_size  \\\n",
       "0     Approved           Solex     Standard        medium       medium   \n",
       "1     Approved   Trek Bicycles     Standard        medium        large   \n",
       "2     Approved      OHM Cycles     Standard           low       medium   \n",
       "3     Approved  Norco Bicycles     Standard        medium       medium   \n",
       "4     Approved  Giant Bicycles     Standard        medium        large   \n",
       "\n",
       "   list_price  standard_cost product_first_sold_date   profit  days  \n",
       "0       71.49          53.62              2012-12-02    17.87   309  \n",
       "1     2091.47         388.92              2014-03-03  1702.55   224  \n",
       "2     1793.43         248.82              1999-07-20  1544.61    76  \n",
       "3     1198.46         381.10              1998-12-16   817.36   122  \n",
       "4     1765.30         709.48              2015-08-10  1055.82    91  "
      ]
     },
     "execution_count": 2,
     "metadata": {},
     "output_type": "execute_result"
    }
   ],
   "source": [
    "#read the file, of which profit and days(2017-12-31 minus transaction date) columns have been added, and data format has been modified\n",
    "df = pd.read_excel(\"C:\\\\Users\\\\weizh\\\\OneDrive\\\\文档\\\\KPMG_VI_New_raw_data_update_final.xlsx\", sheet_name='Transactions')\n",
    "df.head()"
   ]
  },
  {
   "cell_type": "code",
   "execution_count": 3,
   "id": "1306b913",
   "metadata": {},
   "outputs": [
    {
     "data": {
      "text/plain": [
       "(20000, 15)"
      ]
     },
     "execution_count": 3,
     "metadata": {},
     "output_type": "execute_result"
    }
   ],
   "source": [
    "#there are 20,000 transaction records in total\n",
    "df.shape"
   ]
  },
  {
   "cell_type": "code",
   "execution_count": 4,
   "id": "3907e410",
   "metadata": {},
   "outputs": [
    {
     "name": "stdout",
     "output_type": "stream",
     "text": [
      "<class 'pandas.core.frame.DataFrame'>\n",
      "RangeIndex: 20000 entries, 0 to 19999\n",
      "Data columns (total 15 columns):\n",
      " #   Column                   Non-Null Count  Dtype         \n",
      "---  ------                   --------------  -----         \n",
      " 0   transaction_id           20000 non-null  int64         \n",
      " 1   product_id               20000 non-null  int64         \n",
      " 2   customer_id              20000 non-null  int64         \n",
      " 3   transaction_date         20000 non-null  datetime64[ns]\n",
      " 4   online_order             19640 non-null  float64       \n",
      " 5   order_status             20000 non-null  object        \n",
      " 6   brand                    19803 non-null  object        \n",
      " 7   product_line             19803 non-null  object        \n",
      " 8   product_class            19803 non-null  object        \n",
      " 9   product_size             19803 non-null  object        \n",
      " 10  list_price               20000 non-null  float64       \n",
      " 11  standard_cost            19803 non-null  float64       \n",
      " 12  product_first_sold_date  19803 non-null  datetime64[ns]\n",
      " 13  profit                   20000 non-null  float64       \n",
      " 14  days                     20000 non-null  int64         \n",
      "dtypes: datetime64[ns](2), float64(4), int64(4), object(5)\n",
      "memory usage: 2.3+ MB\n"
     ]
    }
   ],
   "source": [
    "#double check the data type \n",
    "df.info()"
   ]
  },
  {
   "cell_type": "code",
   "execution_count": 5,
   "id": "62ef8ff4",
   "metadata": {},
   "outputs": [
    {
     "data": {
      "text/plain": [
       "transaction_id               0\n",
       "product_id                   0\n",
       "customer_id                  0\n",
       "transaction_date             0\n",
       "online_order               360\n",
       "order_status                 0\n",
       "brand                      197\n",
       "product_line               197\n",
       "product_class              197\n",
       "product_size               197\n",
       "list_price                   0\n",
       "standard_cost              197\n",
       "product_first_sold_date    197\n",
       "profit                       0\n",
       "days                         0\n",
       "dtype: int64"
      ]
     },
     "execution_count": 5,
     "metadata": {},
     "output_type": "execute_result"
    }
   ],
   "source": [
    "#check number of null values\n",
    "df.isnull().sum()"
   ]
  },
  {
   "cell_type": "code",
   "execution_count": 6,
   "id": "b5b1a74b",
   "metadata": {},
   "outputs": [],
   "source": [
    "#standard_cost and product_first_sold_date are important for RFM rating calculation\n",
    "#null value will be dropped (197 rows)\n",
    "df.dropna(subset=['standard_cost', 'product_first_sold_date'], how='any', inplace=True)"
   ]
  },
  {
   "cell_type": "code",
   "execution_count": 7,
   "id": "b7c2519e",
   "metadata": {},
   "outputs": [
    {
     "data": {
      "text/plain": [
       "transaction_id               0\n",
       "product_id                   0\n",
       "customer_id                  0\n",
       "transaction_date             0\n",
       "online_order               358\n",
       "order_status                 0\n",
       "brand                        0\n",
       "product_line                 0\n",
       "product_class                0\n",
       "product_size                 0\n",
       "list_price                   0\n",
       "standard_cost                0\n",
       "product_first_sold_date      0\n",
       "profit                       0\n",
       "days                         0\n",
       "dtype: int64"
      ]
     },
     "execution_count": 7,
     "metadata": {},
     "output_type": "execute_result"
    }
   ],
   "source": [
    "df.isnull().sum()"
   ]
  },
  {
   "cell_type": "code",
   "execution_count": 8,
   "id": "57f3891c",
   "metadata": {},
   "outputs": [
    {
     "data": {
      "text/plain": [
       "order_status   Approved          19625.0\n",
       "               Cancelled           178.0\n",
       "brand          Giant Bicycles     3312.0\n",
       "               Norco Bicycles     2910.0\n",
       "               OHM Cycles         3043.0\n",
       "               Solex              4253.0\n",
       "               Trek Bicycles      2990.0\n",
       "               WeareA2B           3295.0\n",
       "product_line   Mountain            423.0\n",
       "               Road               3970.0\n",
       "               Standard          14176.0\n",
       "               Touring            1234.0\n",
       "product_class  high               3013.0\n",
       "               low                2964.0\n",
       "               medium            13826.0\n",
       "product_size   large              3976.0\n",
       "               medium            12990.0\n",
       "               small              2837.0\n",
       "dtype: float64"
      ]
     },
     "execution_count": 8,
     "metadata": {},
     "output_type": "execute_result"
    }
   ],
   "source": [
    "df.iloc[:, 5:10].apply(lambda x: x.value_counts()).T.stack()"
   ]
  },
  {
   "cell_type": "code",
   "execution_count": 9,
   "id": "f8af7d04",
   "metadata": {},
   "outputs": [
    {
     "data": {
      "text/plain": [
       "Approved    19625\n",
       "Name: order_status, dtype: int64"
      ]
     },
     "execution_count": 9,
     "metadata": {},
     "output_type": "execute_result"
    }
   ],
   "source": [
    "#drop the rows that have order_status as \"Cancelled\" (178 rows)\n",
    "index_to_drop = df[df.order_status == 'Cancelled'].index\n",
    "df.drop(index_to_drop, inplace=True)\n",
    "df.order_status.value_counts()"
   ]
  },
  {
   "cell_type": "code",
   "execution_count": 10,
   "id": "1ecab1f8",
   "metadata": {},
   "outputs": [
    {
     "data": {
      "text/html": [
       "<div>\n",
       "<style scoped>\n",
       "    .dataframe tbody tr th:only-of-type {\n",
       "        vertical-align: middle;\n",
       "    }\n",
       "\n",
       "    .dataframe tbody tr th {\n",
       "        vertical-align: top;\n",
       "    }\n",
       "\n",
       "    .dataframe thead th {\n",
       "        text-align: right;\n",
       "    }\n",
       "</style>\n",
       "<table border=\"1\" class=\"dataframe\">\n",
       "  <thead>\n",
       "    <tr style=\"text-align: right;\">\n",
       "      <th></th>\n",
       "      <th>transaction_id</th>\n",
       "      <th>product_id</th>\n",
       "      <th>customer_id</th>\n",
       "      <th>transaction_date</th>\n",
       "      <th>online_order</th>\n",
       "      <th>order_status</th>\n",
       "      <th>brand</th>\n",
       "      <th>product_line</th>\n",
       "      <th>product_class</th>\n",
       "      <th>product_size</th>\n",
       "      <th>list_price</th>\n",
       "      <th>standard_cost</th>\n",
       "      <th>product_first_sold_date</th>\n",
       "      <th>profit</th>\n",
       "      <th>days</th>\n",
       "    </tr>\n",
       "  </thead>\n",
       "  <tbody>\n",
       "    <tr>\n",
       "      <th>0</th>\n",
       "      <td>1</td>\n",
       "      <td>2</td>\n",
       "      <td>2950</td>\n",
       "      <td>2017-02-25</td>\n",
       "      <td>0.0</td>\n",
       "      <td>Approved</td>\n",
       "      <td>Solex</td>\n",
       "      <td>Standard</td>\n",
       "      <td>medium</td>\n",
       "      <td>medium</td>\n",
       "      <td>71.49</td>\n",
       "      <td>53.62</td>\n",
       "      <td>2012-12-02</td>\n",
       "      <td>17.87</td>\n",
       "      <td>309</td>\n",
       "    </tr>\n",
       "    <tr>\n",
       "      <th>1</th>\n",
       "      <td>2</td>\n",
       "      <td>3</td>\n",
       "      <td>3120</td>\n",
       "      <td>2017-05-21</td>\n",
       "      <td>1.0</td>\n",
       "      <td>Approved</td>\n",
       "      <td>Trek Bicycles</td>\n",
       "      <td>Standard</td>\n",
       "      <td>medium</td>\n",
       "      <td>large</td>\n",
       "      <td>2091.47</td>\n",
       "      <td>388.92</td>\n",
       "      <td>2014-03-03</td>\n",
       "      <td>1702.55</td>\n",
       "      <td>224</td>\n",
       "    </tr>\n",
       "    <tr>\n",
       "      <th>2</th>\n",
       "      <td>3</td>\n",
       "      <td>37</td>\n",
       "      <td>402</td>\n",
       "      <td>2017-10-16</td>\n",
       "      <td>0.0</td>\n",
       "      <td>Approved</td>\n",
       "      <td>OHM Cycles</td>\n",
       "      <td>Standard</td>\n",
       "      <td>low</td>\n",
       "      <td>medium</td>\n",
       "      <td>1793.43</td>\n",
       "      <td>248.82</td>\n",
       "      <td>1999-07-20</td>\n",
       "      <td>1544.61</td>\n",
       "      <td>76</td>\n",
       "    </tr>\n",
       "    <tr>\n",
       "      <th>3</th>\n",
       "      <td>4</td>\n",
       "      <td>88</td>\n",
       "      <td>3135</td>\n",
       "      <td>2017-08-31</td>\n",
       "      <td>0.0</td>\n",
       "      <td>Approved</td>\n",
       "      <td>Norco Bicycles</td>\n",
       "      <td>Standard</td>\n",
       "      <td>medium</td>\n",
       "      <td>medium</td>\n",
       "      <td>1198.46</td>\n",
       "      <td>381.10</td>\n",
       "      <td>1998-12-16</td>\n",
       "      <td>817.36</td>\n",
       "      <td>122</td>\n",
       "    </tr>\n",
       "    <tr>\n",
       "      <th>4</th>\n",
       "      <td>5</td>\n",
       "      <td>78</td>\n",
       "      <td>787</td>\n",
       "      <td>2017-10-01</td>\n",
       "      <td>1.0</td>\n",
       "      <td>Approved</td>\n",
       "      <td>Giant Bicycles</td>\n",
       "      <td>Standard</td>\n",
       "      <td>medium</td>\n",
       "      <td>large</td>\n",
       "      <td>1765.30</td>\n",
       "      <td>709.48</td>\n",
       "      <td>2015-08-10</td>\n",
       "      <td>1055.82</td>\n",
       "      <td>91</td>\n",
       "    </tr>\n",
       "    <tr>\n",
       "      <th>...</th>\n",
       "      <td>...</td>\n",
       "      <td>...</td>\n",
       "      <td>...</td>\n",
       "      <td>...</td>\n",
       "      <td>...</td>\n",
       "      <td>...</td>\n",
       "      <td>...</td>\n",
       "      <td>...</td>\n",
       "      <td>...</td>\n",
       "      <td>...</td>\n",
       "      <td>...</td>\n",
       "      <td>...</td>\n",
       "      <td>...</td>\n",
       "      <td>...</td>\n",
       "      <td>...</td>\n",
       "    </tr>\n",
       "    <tr>\n",
       "      <th>19995</th>\n",
       "      <td>19996</td>\n",
       "      <td>51</td>\n",
       "      <td>1018</td>\n",
       "      <td>2017-06-24</td>\n",
       "      <td>1.0</td>\n",
       "      <td>Approved</td>\n",
       "      <td>OHM Cycles</td>\n",
       "      <td>Standard</td>\n",
       "      <td>high</td>\n",
       "      <td>medium</td>\n",
       "      <td>2005.66</td>\n",
       "      <td>1203.40</td>\n",
       "      <td>2003-07-21</td>\n",
       "      <td>802.26</td>\n",
       "      <td>190</td>\n",
       "    </tr>\n",
       "    <tr>\n",
       "      <th>19996</th>\n",
       "      <td>19997</td>\n",
       "      <td>41</td>\n",
       "      <td>127</td>\n",
       "      <td>2017-11-09</td>\n",
       "      <td>1.0</td>\n",
       "      <td>Approved</td>\n",
       "      <td>Solex</td>\n",
       "      <td>Road</td>\n",
       "      <td>medium</td>\n",
       "      <td>medium</td>\n",
       "      <td>416.98</td>\n",
       "      <td>312.74</td>\n",
       "      <td>1997-05-10</td>\n",
       "      <td>104.24</td>\n",
       "      <td>52</td>\n",
       "    </tr>\n",
       "    <tr>\n",
       "      <th>19997</th>\n",
       "      <td>19998</td>\n",
       "      <td>87</td>\n",
       "      <td>2284</td>\n",
       "      <td>2017-04-14</td>\n",
       "      <td>1.0</td>\n",
       "      <td>Approved</td>\n",
       "      <td>OHM Cycles</td>\n",
       "      <td>Standard</td>\n",
       "      <td>medium</td>\n",
       "      <td>medium</td>\n",
       "      <td>1636.90</td>\n",
       "      <td>44.71</td>\n",
       "      <td>2010-08-20</td>\n",
       "      <td>1592.19</td>\n",
       "      <td>261</td>\n",
       "    </tr>\n",
       "    <tr>\n",
       "      <th>19998</th>\n",
       "      <td>19999</td>\n",
       "      <td>6</td>\n",
       "      <td>2764</td>\n",
       "      <td>2017-07-03</td>\n",
       "      <td>0.0</td>\n",
       "      <td>Approved</td>\n",
       "      <td>OHM Cycles</td>\n",
       "      <td>Standard</td>\n",
       "      <td>high</td>\n",
       "      <td>medium</td>\n",
       "      <td>227.88</td>\n",
       "      <td>136.73</td>\n",
       "      <td>2004-08-17</td>\n",
       "      <td>91.15</td>\n",
       "      <td>181</td>\n",
       "    </tr>\n",
       "    <tr>\n",
       "      <th>19999</th>\n",
       "      <td>20000</td>\n",
       "      <td>11</td>\n",
       "      <td>1144</td>\n",
       "      <td>2017-09-22</td>\n",
       "      <td>1.0</td>\n",
       "      <td>Approved</td>\n",
       "      <td>Trek Bicycles</td>\n",
       "      <td>Standard</td>\n",
       "      <td>medium</td>\n",
       "      <td>small</td>\n",
       "      <td>1775.81</td>\n",
       "      <td>1580.47</td>\n",
       "      <td>1999-06-23</td>\n",
       "      <td>195.34</td>\n",
       "      <td>100</td>\n",
       "    </tr>\n",
       "  </tbody>\n",
       "</table>\n",
       "<p>19625 rows × 15 columns</p>\n",
       "</div>"
      ],
      "text/plain": [
       "       transaction_id  product_id  customer_id transaction_date  online_order  \\\n",
       "0                   1           2         2950       2017-02-25           0.0   \n",
       "1                   2           3         3120       2017-05-21           1.0   \n",
       "2                   3          37          402       2017-10-16           0.0   \n",
       "3                   4          88         3135       2017-08-31           0.0   \n",
       "4                   5          78          787       2017-10-01           1.0   \n",
       "...               ...         ...          ...              ...           ...   \n",
       "19995           19996          51         1018       2017-06-24           1.0   \n",
       "19996           19997          41          127       2017-11-09           1.0   \n",
       "19997           19998          87         2284       2017-04-14           1.0   \n",
       "19998           19999           6         2764       2017-07-03           0.0   \n",
       "19999           20000          11         1144       2017-09-22           1.0   \n",
       "\n",
       "      order_status           brand product_line product_class product_size  \\\n",
       "0         Approved           Solex     Standard        medium       medium   \n",
       "1         Approved   Trek Bicycles     Standard        medium        large   \n",
       "2         Approved      OHM Cycles     Standard           low       medium   \n",
       "3         Approved  Norco Bicycles     Standard        medium       medium   \n",
       "4         Approved  Giant Bicycles     Standard        medium        large   \n",
       "...            ...             ...          ...           ...          ...   \n",
       "19995     Approved      OHM Cycles     Standard          high       medium   \n",
       "19996     Approved           Solex         Road        medium       medium   \n",
       "19997     Approved      OHM Cycles     Standard        medium       medium   \n",
       "19998     Approved      OHM Cycles     Standard          high       medium   \n",
       "19999     Approved   Trek Bicycles     Standard        medium        small   \n",
       "\n",
       "       list_price  standard_cost product_first_sold_date   profit  days  \n",
       "0           71.49          53.62              2012-12-02    17.87   309  \n",
       "1         2091.47         388.92              2014-03-03  1702.55   224  \n",
       "2         1793.43         248.82              1999-07-20  1544.61    76  \n",
       "3         1198.46         381.10              1998-12-16   817.36   122  \n",
       "4         1765.30         709.48              2015-08-10  1055.82    91  \n",
       "...           ...            ...                     ...      ...   ...  \n",
       "19995     2005.66        1203.40              2003-07-21   802.26   190  \n",
       "19996      416.98         312.74              1997-05-10   104.24    52  \n",
       "19997     1636.90          44.71              2010-08-20  1592.19   261  \n",
       "19998      227.88         136.73              2004-08-17    91.15   181  \n",
       "19999     1775.81        1580.47              1999-06-23   195.34   100  \n",
       "\n",
       "[19625 rows x 15 columns]"
      ]
     },
     "execution_count": 10,
     "metadata": {},
     "output_type": "execute_result"
    }
   ],
   "source": [
    "df"
   ]
  },
  {
   "cell_type": "code",
   "execution_count": 11,
   "id": "484af9ee",
   "metadata": {},
   "outputs": [
    {
     "data": {
      "text/html": [
       "<div>\n",
       "<style scoped>\n",
       "    .dataframe tbody tr th:only-of-type {\n",
       "        vertical-align: middle;\n",
       "    }\n",
       "\n",
       "    .dataframe tbody tr th {\n",
       "        vertical-align: top;\n",
       "    }\n",
       "\n",
       "    .dataframe thead th {\n",
       "        text-align: right;\n",
       "    }\n",
       "</style>\n",
       "<table border=\"1\" class=\"dataframe\">\n",
       "  <thead>\n",
       "    <tr style=\"text-align: right;\">\n",
       "      <th></th>\n",
       "      <th>transaction_id</th>\n",
       "      <th>product_id</th>\n",
       "      <th>customer_id</th>\n",
       "      <th>online_order</th>\n",
       "      <th>list_price</th>\n",
       "      <th>standard_cost</th>\n",
       "      <th>profit</th>\n",
       "      <th>days</th>\n",
       "    </tr>\n",
       "  </thead>\n",
       "  <tbody>\n",
       "    <tr>\n",
       "      <th>count</th>\n",
       "      <td>19625.000000</td>\n",
       "      <td>19625.000000</td>\n",
       "      <td>19625.000000</td>\n",
       "      <td>19273.000000</td>\n",
       "      <td>19625.000000</td>\n",
       "      <td>19625.000000</td>\n",
       "      <td>19625.000000</td>\n",
       "      <td>19625.000000</td>\n",
       "    </tr>\n",
       "    <tr>\n",
       "      <th>mean</th>\n",
       "      <td>9999.242038</td>\n",
       "      <td>45.796739</td>\n",
       "      <td>1739.572994</td>\n",
       "      <td>0.500285</td>\n",
       "      <td>1107.744983</td>\n",
       "      <td>555.821210</td>\n",
       "      <td>551.923772</td>\n",
       "      <td>182.447745</td>\n",
       "    </tr>\n",
       "    <tr>\n",
       "      <th>std</th>\n",
       "      <td>5777.316282</td>\n",
       "      <td>30.576832</td>\n",
       "      <td>1011.957495</td>\n",
       "      <td>0.500013</td>\n",
       "      <td>582.989189</td>\n",
       "      <td>405.977243</td>\n",
       "      <td>493.502909</td>\n",
       "      <td>105.406465</td>\n",
       "    </tr>\n",
       "    <tr>\n",
       "      <th>min</th>\n",
       "      <td>1.000000</td>\n",
       "      <td>0.000000</td>\n",
       "      <td>1.000000</td>\n",
       "      <td>0.000000</td>\n",
       "      <td>12.010000</td>\n",
       "      <td>7.210000</td>\n",
       "      <td>4.800000</td>\n",
       "      <td>1.000000</td>\n",
       "    </tr>\n",
       "    <tr>\n",
       "      <th>25%</th>\n",
       "      <td>4990.000000</td>\n",
       "      <td>18.000000</td>\n",
       "      <td>858.000000</td>\n",
       "      <td>0.000000</td>\n",
       "      <td>575.270000</td>\n",
       "      <td>215.140000</td>\n",
       "      <td>133.780000</td>\n",
       "      <td>90.000000</td>\n",
       "    </tr>\n",
       "    <tr>\n",
       "      <th>50%</th>\n",
       "      <td>10003.000000</td>\n",
       "      <td>45.000000</td>\n",
       "      <td>1737.000000</td>\n",
       "      <td>1.000000</td>\n",
       "      <td>1163.890000</td>\n",
       "      <td>507.580000</td>\n",
       "      <td>445.210000</td>\n",
       "      <td>181.000000</td>\n",
       "    </tr>\n",
       "    <tr>\n",
       "      <th>75%</th>\n",
       "      <td>15010.000000</td>\n",
       "      <td>72.000000</td>\n",
       "      <td>2615.000000</td>\n",
       "      <td>1.000000</td>\n",
       "      <td>1635.300000</td>\n",
       "      <td>795.100000</td>\n",
       "      <td>830.240000</td>\n",
       "      <td>274.000000</td>\n",
       "    </tr>\n",
       "    <tr>\n",
       "      <th>max</th>\n",
       "      <td>20000.000000</td>\n",
       "      <td>100.000000</td>\n",
       "      <td>5034.000000</td>\n",
       "      <td>1.000000</td>\n",
       "      <td>2091.470000</td>\n",
       "      <td>1759.850000</td>\n",
       "      <td>1702.550000</td>\n",
       "      <td>364.000000</td>\n",
       "    </tr>\n",
       "  </tbody>\n",
       "</table>\n",
       "</div>"
      ],
      "text/plain": [
       "       transaction_id    product_id   customer_id  online_order    list_price  \\\n",
       "count    19625.000000  19625.000000  19625.000000  19273.000000  19625.000000   \n",
       "mean      9999.242038     45.796739   1739.572994      0.500285   1107.744983   \n",
       "std       5777.316282     30.576832   1011.957495      0.500013    582.989189   \n",
       "min          1.000000      0.000000      1.000000      0.000000     12.010000   \n",
       "25%       4990.000000     18.000000    858.000000      0.000000    575.270000   \n",
       "50%      10003.000000     45.000000   1737.000000      1.000000   1163.890000   \n",
       "75%      15010.000000     72.000000   2615.000000      1.000000   1635.300000   \n",
       "max      20000.000000    100.000000   5034.000000      1.000000   2091.470000   \n",
       "\n",
       "       standard_cost        profit          days  \n",
       "count   19625.000000  19625.000000  19625.000000  \n",
       "mean      555.821210    551.923772    182.447745  \n",
       "std       405.977243    493.502909    105.406465  \n",
       "min         7.210000      4.800000      1.000000  \n",
       "25%       215.140000    133.780000     90.000000  \n",
       "50%       507.580000    445.210000    181.000000  \n",
       "75%       795.100000    830.240000    274.000000  \n",
       "max      1759.850000   1702.550000    364.000000  "
      ]
     },
     "execution_count": 11,
     "metadata": {},
     "output_type": "execute_result"
    }
   ],
   "source": [
    "df.describe()"
   ]
  },
  {
   "cell_type": "code",
   "execution_count": 12,
   "id": "76b02ad9",
   "metadata": {},
   "outputs": [
    {
     "data": {
      "text/html": [
       "<div>\n",
       "<style scoped>\n",
       "    .dataframe tbody tr th:only-of-type {\n",
       "        vertical-align: middle;\n",
       "    }\n",
       "\n",
       "    .dataframe tbody tr th {\n",
       "        vertical-align: top;\n",
       "    }\n",
       "\n",
       "    .dataframe thead th {\n",
       "        text-align: right;\n",
       "    }\n",
       "</style>\n",
       "<table border=\"1\" class=\"dataframe\">\n",
       "  <thead>\n",
       "    <tr style=\"text-align: right;\">\n",
       "      <th></th>\n",
       "      <th>customer_id</th>\n",
       "    </tr>\n",
       "  </thead>\n",
       "  <tbody>\n",
       "    <tr>\n",
       "      <th>0</th>\n",
       "      <td>1</td>\n",
       "    </tr>\n",
       "    <tr>\n",
       "      <th>1</th>\n",
       "      <td>2</td>\n",
       "    </tr>\n",
       "    <tr>\n",
       "      <th>2</th>\n",
       "      <td>3</td>\n",
       "    </tr>\n",
       "    <tr>\n",
       "      <th>3</th>\n",
       "      <td>4</td>\n",
       "    </tr>\n",
       "    <tr>\n",
       "      <th>4</th>\n",
       "      <td>5</td>\n",
       "    </tr>\n",
       "    <tr>\n",
       "      <th>...</th>\n",
       "      <td>...</td>\n",
       "    </tr>\n",
       "    <tr>\n",
       "      <th>3488</th>\n",
       "      <td>3497</td>\n",
       "    </tr>\n",
       "    <tr>\n",
       "      <th>3489</th>\n",
       "      <td>3498</td>\n",
       "    </tr>\n",
       "    <tr>\n",
       "      <th>3490</th>\n",
       "      <td>3499</td>\n",
       "    </tr>\n",
       "    <tr>\n",
       "      <th>3491</th>\n",
       "      <td>3500</td>\n",
       "    </tr>\n",
       "    <tr>\n",
       "      <th>3492</th>\n",
       "      <td>5034</td>\n",
       "    </tr>\n",
       "  </tbody>\n",
       "</table>\n",
       "<p>3493 rows × 1 columns</p>\n",
       "</div>"
      ],
      "text/plain": [
       "      customer_id\n",
       "0               1\n",
       "1               2\n",
       "2               3\n",
       "3               4\n",
       "4               5\n",
       "...           ...\n",
       "3488         3497\n",
       "3489         3498\n",
       "3490         3499\n",
       "3491         3500\n",
       "3492         5034\n",
       "\n",
       "[3493 rows x 1 columns]"
      ]
     },
     "execution_count": 12,
     "metadata": {},
     "output_type": "execute_result"
    }
   ],
   "source": [
    "#calculate rfm value\n",
    "rfm = df.groupby('customer_id').agg({'days': lambda x: x.min(), 'transaction_id': lambda x: x.count(), 'profit': lambda x: x.sum()})\n",
    "rfm.columns = ['recency', 'frequency', 'monetary']\n",
    "rfm = pd.DataFrame(rfm)\n",
    "rfm['monetary'] = rfm['monetary'].astype('int')\n",
    "\n",
    "#store the customer id for later\n",
    "customer_id = pd.DataFrame(rfm.index, columns=['customer_id'])\n",
    "customer_id"
   ]
  },
  {
   "cell_type": "code",
   "execution_count": 13,
   "id": "7a78ab7b",
   "metadata": {},
   "outputs": [
    {
     "name": "stdout",
     "output_type": "stream",
     "text": [
      "<class 'pandas.core.frame.DataFrame'>\n",
      "Int64Index: 3493 entries, 1 to 5034\n",
      "Data columns (total 3 columns):\n",
      " #   Column     Non-Null Count  Dtype\n",
      "---  ------     --------------  -----\n",
      " 0   recency    3493 non-null   int64\n",
      " 1   frequency  3493 non-null   int64\n",
      " 2   monetary   3493 non-null   int32\n",
      "dtypes: int32(1), int64(2)\n",
      "memory usage: 95.5 KB\n"
     ]
    }
   ],
   "source": [
    "rfm.info()"
   ]
  },
  {
   "cell_type": "code",
   "execution_count": 14,
   "id": "725d7ab1",
   "metadata": {},
   "outputs": [
    {
     "data": {
      "text/html": [
       "<div>\n",
       "<style scoped>\n",
       "    .dataframe tbody tr th:only-of-type {\n",
       "        vertical-align: middle;\n",
       "    }\n",
       "\n",
       "    .dataframe tbody tr th {\n",
       "        vertical-align: top;\n",
       "    }\n",
       "\n",
       "    .dataframe thead th {\n",
       "        text-align: right;\n",
       "    }\n",
       "</style>\n",
       "<table border=\"1\" class=\"dataframe\">\n",
       "  <thead>\n",
       "    <tr style=\"text-align: right;\">\n",
       "      <th></th>\n",
       "      <th>recency</th>\n",
       "      <th>frequency</th>\n",
       "      <th>monetary</th>\n",
       "    </tr>\n",
       "  </thead>\n",
       "  <tbody>\n",
       "    <tr>\n",
       "      <th>count</th>\n",
       "      <td>3493.000000</td>\n",
       "      <td>3493.000000</td>\n",
       "      <td>3493.000000</td>\n",
       "    </tr>\n",
       "    <tr>\n",
       "      <th>mean</th>\n",
       "      <td>62.805039</td>\n",
       "      <td>5.618380</td>\n",
       "      <td>3100.430575</td>\n",
       "    </tr>\n",
       "    <tr>\n",
       "      <th>std</th>\n",
       "      <td>58.568975</td>\n",
       "      <td>2.296612</td>\n",
       "      <td>1764.116907</td>\n",
       "    </tr>\n",
       "    <tr>\n",
       "      <th>min</th>\n",
       "      <td>1.000000</td>\n",
       "      <td>1.000000</td>\n",
       "      <td>15.000000</td>\n",
       "    </tr>\n",
       "    <tr>\n",
       "      <th>25%</th>\n",
       "      <td>18.000000</td>\n",
       "      <td>4.000000</td>\n",
       "      <td>1828.000000</td>\n",
       "    </tr>\n",
       "    <tr>\n",
       "      <th>50%</th>\n",
       "      <td>45.000000</td>\n",
       "      <td>5.000000</td>\n",
       "      <td>2840.000000</td>\n",
       "    </tr>\n",
       "    <tr>\n",
       "      <th>75%</th>\n",
       "      <td>88.000000</td>\n",
       "      <td>7.000000</td>\n",
       "      <td>4150.000000</td>\n",
       "    </tr>\n",
       "    <tr>\n",
       "      <th>max</th>\n",
       "      <td>354.000000</td>\n",
       "      <td>14.000000</td>\n",
       "      <td>11668.000000</td>\n",
       "    </tr>\n",
       "  </tbody>\n",
       "</table>\n",
       "</div>"
      ],
      "text/plain": [
       "           recency    frequency      monetary\n",
       "count  3493.000000  3493.000000   3493.000000\n",
       "mean     62.805039     5.618380   3100.430575\n",
       "std      58.568975     2.296612   1764.116907\n",
       "min       1.000000     1.000000     15.000000\n",
       "25%      18.000000     4.000000   1828.000000\n",
       "50%      45.000000     5.000000   2840.000000\n",
       "75%      88.000000     7.000000   4150.000000\n",
       "max     354.000000    14.000000  11668.000000"
      ]
     },
     "execution_count": 14,
     "metadata": {},
     "output_type": "execute_result"
    }
   ],
   "source": [
    "rfm.describe()"
   ]
  },
  {
   "cell_type": "code",
   "execution_count": 15,
   "id": "7c1836eb",
   "metadata": {},
   "outputs": [
    {
     "data": {
      "text/plain": [
       "<AxesSubplot:>"
      ]
     },
     "execution_count": 15,
     "metadata": {},
     "output_type": "execute_result"
    },
    {
     "data": {
      "image/png": "[encoded data removed]",
      "text/plain": [
       "<Figure size 432x288 with 1 Axes>"
      ]
     },
     "metadata": {
      "needs_background": "light"
     },
     "output_type": "display_data"
    }
   ],
   "source": [
    "rfm.recency.hist()"
   ]
  },
  {
   "cell_type": "code",
   "execution_count": 16,
   "id": "5fe9337a",
   "metadata": {},
   "outputs": [
    {
     "data": {
      "text/plain": [
       "<AxesSubplot:>"
      ]
     },
     "execution_count": 16,
     "metadata": {},
     "output_type": "execute_result"
    },
    {
     "data": {
      "image/png": "[encoded data removed]",
      "text/plain": [
       "<Figure size 432x288 with 1 Axes>"
      ]
     },
     "metadata": {
      "needs_background": "light"
     },
     "output_type": "display_data"
    }
   ],
   "source": [
    "rfm.frequency.hist()"
   ]
  },
  {
   "cell_type": "code",
   "execution_count": 17,
   "id": "2f0e7b00",
   "metadata": {},
   "outputs": [
    {
     "data": {
      "text/plain": [
       "<AxesSubplot:>"
      ]
     },
     "execution_count": 17,
     "metadata": {},
     "output_type": "execute_result"
    },
    {
     "data": {
      "image/png": "[encoded data removed]",
      "text/plain": [
       "<Figure size 432x288 with 1 Axes>"
      ]
     },
     "metadata": {
      "needs_background": "light"
     },
     "output_type": "display_data"
    }
   ],
   "source": [
    "rfm.monetary.hist()"
   ]
  },
  {
   "cell_type": "markdown",
   "id": "634718e7",
   "metadata": {},
   "source": [
    "K-means will be used to find customer clusters"
   ]
  },
  {
   "cell_type": "code",
   "execution_count": 18,
   "id": "9ee5fa60",
   "metadata": {},
   "outputs": [
    {
     "data": {
      "text/plain": [
       "array([[0.01983003, 0.76923077, 0.25770188],\n",
       "       [0.36260623, 0.15384615, 0.18973655],\n",
       "       [0.28895184, 0.53846154, 0.28722217],\n",
       "       ...,\n",
       "       [0.14447592, 0.46153846, 0.42392517],\n",
       "       [0.40793201, 0.38461538, 0.15189222],\n",
       "       [0.23796034, 0.15384615, 0.02179696]])"
      ]
     },
     "execution_count": 18,
     "metadata": {},
     "output_type": "execute_result"
    }
   ],
   "source": [
    "#before modelling, normalize the numerical data \n",
    "from sklearn.preprocessing import MinMaxScaler\n",
    "\n",
    "ms = MinMaxScaler()\n",
    "rfm = ms.fit_transform(rfm)\n",
    "rfm"
   ]
  },
  {
   "cell_type": "code",
   "execution_count": 19,
   "id": "16f62992",
   "metadata": {},
   "outputs": [],
   "source": [
    "from sklearn.cluster import KMeans"
   ]
  },
  {
   "cell_type": "code",
   "execution_count": 20,
   "id": "09887859",
   "metadata": {},
   "outputs": [
    {
     "data": {
      "text/plain": [
       "Text(0, 0.5, 'wcss')"
      ]
     },
     "execution_count": 20,
     "metadata": {},
     "output_type": "execute_result"
    },
    {
     "data": {
      "image/png": "[encoded data removed]",
      "text/plain": [
       "<Figure size 432x288 with 1 Axes>"
      ]
     },
     "metadata": {
      "needs_background": "light"
     },
     "output_type": "display_data"
    }
   ],
   "source": [
    "#Use Elbow Method to find the optimal number of clusters\n",
    "wcss = [] \n",
    "K = range(1, 20)\n",
    "\n",
    "for k in K:\n",
    "    kmeans = KMeans(n_clusters = k, init = 'k-means++', random_state = 42).fit(rfm)\n",
    "    wcss.append(kmeans.inertia_)\n",
    "\n",
    "plt.plot(K, wcss, 'bx-')\n",
    "plt.title('The Elbow Method -- Optimal k')\n",
    "plt.xlabel('K')\n",
    "plt.ylabel('wcss')\n"
   ]
  },
  {
   "cell_type": "code",
   "execution_count": 21,
   "id": "5cf99b6c",
   "metadata": {},
   "outputs": [
    {
     "data": {
      "image/png": "[encoded data removed]",
      "text/plain": [
       "<Figure size 576x396 with 2 Axes>"
      ]
     },
     "metadata": {},
     "output_type": "display_data"
    }
   ],
   "source": [
    "#From previous graph, the last elbow seems to be at 4. Now double check if the optimal k is 4:\n",
    "\n",
    "from yellowbrick.cluster import KElbowVisualizer\n",
    "\n",
    "kmeans = KMeans()\n",
    "visu = KElbowVisualizer(kmeans, k=(1, 20))\n",
    "visu.fit(rfm)\n",
    "visu.show();"
   ]
  },
  {
   "cell_type": "code",
   "execution_count": 22,
   "id": "318455a9",
   "metadata": {},
   "outputs": [
    {
     "data": {
      "text/html": [
       "<div>\n",
       "<style scoped>\n",
       "    .dataframe tbody tr th:only-of-type {\n",
       "        vertical-align: middle;\n",
       "    }\n",
       "\n",
       "    .dataframe tbody tr th {\n",
       "        vertical-align: top;\n",
       "    }\n",
       "\n",
       "    .dataframe thead th {\n",
       "        text-align: right;\n",
       "    }\n",
       "</style>\n",
       "<table border=\"1\" class=\"dataframe\">\n",
       "  <thead>\n",
       "    <tr style=\"text-align: right;\">\n",
       "      <th></th>\n",
       "      <th>recency</th>\n",
       "      <th>frequency</th>\n",
       "      <th>monetary</th>\n",
       "    </tr>\n",
       "  </thead>\n",
       "  <tbody>\n",
       "    <tr>\n",
       "      <th>0</th>\n",
       "      <td>0.019830</td>\n",
       "      <td>0.769231</td>\n",
       "      <td>0.257702</td>\n",
       "    </tr>\n",
       "    <tr>\n",
       "      <th>1</th>\n",
       "      <td>0.362606</td>\n",
       "      <td>0.153846</td>\n",
       "      <td>0.189737</td>\n",
       "    </tr>\n",
       "    <tr>\n",
       "      <th>2</th>\n",
       "      <td>0.288952</td>\n",
       "      <td>0.538462</td>\n",
       "      <td>0.287222</td>\n",
       "    </tr>\n",
       "    <tr>\n",
       "      <th>3</th>\n",
       "      <td>0.552408</td>\n",
       "      <td>0.076923</td>\n",
       "      <td>0.017592</td>\n",
       "    </tr>\n",
       "    <tr>\n",
       "      <th>4</th>\n",
       "      <td>0.045326</td>\n",
       "      <td>0.384615</td>\n",
       "      <td>0.204153</td>\n",
       "    </tr>\n",
       "    <tr>\n",
       "      <th>...</th>\n",
       "      <td>...</td>\n",
       "      <td>...</td>\n",
       "      <td>...</td>\n",
       "    </tr>\n",
       "    <tr>\n",
       "      <th>3488</th>\n",
       "      <td>0.147309</td>\n",
       "      <td>0.153846</td>\n",
       "      <td>0.140136</td>\n",
       "    </tr>\n",
       "    <tr>\n",
       "      <th>3489</th>\n",
       "      <td>0.359773</td>\n",
       "      <td>0.384615</td>\n",
       "      <td>0.268772</td>\n",
       "    </tr>\n",
       "    <tr>\n",
       "      <th>3490</th>\n",
       "      <td>0.144476</td>\n",
       "      <td>0.461538</td>\n",
       "      <td>0.423925</td>\n",
       "    </tr>\n",
       "    <tr>\n",
       "      <th>3491</th>\n",
       "      <td>0.407932</td>\n",
       "      <td>0.384615</td>\n",
       "      <td>0.151892</td>\n",
       "    </tr>\n",
       "    <tr>\n",
       "      <th>3492</th>\n",
       "      <td>0.237960</td>\n",
       "      <td>0.153846</td>\n",
       "      <td>0.021797</td>\n",
       "    </tr>\n",
       "  </tbody>\n",
       "</table>\n",
       "<p>3493 rows × 3 columns</p>\n",
       "</div>"
      ],
      "text/plain": [
       "       recency  frequency  monetary\n",
       "0     0.019830   0.769231  0.257702\n",
       "1     0.362606   0.153846  0.189737\n",
       "2     0.288952   0.538462  0.287222\n",
       "3     0.552408   0.076923  0.017592\n",
       "4     0.045326   0.384615  0.204153\n",
       "...        ...        ...       ...\n",
       "3488  0.147309   0.153846  0.140136\n",
       "3489  0.359773   0.384615  0.268772\n",
       "3490  0.144476   0.461538  0.423925\n",
       "3491  0.407932   0.384615  0.151892\n",
       "3492  0.237960   0.153846  0.021797\n",
       "\n",
       "[3493 rows x 3 columns]"
      ]
     },
     "execution_count": 22,
     "metadata": {},
     "output_type": "execute_result"
    }
   ],
   "source": [
    "rfm = pd.DataFrame(rfm, columns=['recency', 'frequency', 'monetary'])\n",
    "rfm"
   ]
  },
  {
   "cell_type": "code",
   "execution_count": 23,
   "id": "2567afe1",
   "metadata": {},
   "outputs": [],
   "source": [
    "#fit the dataset to the model do divide it into 4 clusters\n",
    "\n",
    "kmeans = KMeans(n_clusters = 4, init = 'k-means++', random_state = 42).fit(rfm)\n",
    "rfm['cluster'] = kmeans.labels_"
   ]
  },
  {
   "cell_type": "code",
   "execution_count": 24,
   "id": "ec6c4b40",
   "metadata": {},
   "outputs": [
    {
     "data": {
      "text/plain": [
       "<AxesSubplot:>"
      ]
     },
     "execution_count": 24,
     "metadata": {},
     "output_type": "execute_result"
    },
    {
     "data": {
      "image/png": "[encoded data removed]",
      "text/plain": [
       "<Figure size 576x396 with 1 Axes>"
      ]
     },
     "metadata": {},
     "output_type": "display_data"
    }
   ],
   "source": [
    "#distribution of the final clusters\n",
    "rfm['cluster'].hist()"
   ]
  },
  {
   "cell_type": "code",
   "execution_count": 25,
   "id": "3b620c79",
   "metadata": {},
   "outputs": [
    {
     "data": {
      "image/png": "[encoded data removed]",
      "text/plain": [
       "<Figure size 1800x720 with 1 Axes>"
      ]
     },
     "metadata": {},
     "output_type": "display_data"
    }
   ],
   "source": [
    "#plot the 4 clusters into 3D visual\n",
    "\n",
    "fig = plt.figure(figsize=(25, 10))\n",
    "ax = fig.add_subplot(111, projection='3d')\n",
    "\n",
    "for cluster in set(rfm.cluster):\n",
    "    rfmt = rfm[(rfm.cluster == cluster)]\n",
    "    ax.scatter(rfmt.recency, rfmt.frequency, rfmt.monetary, alpha=0.3, label=cluster)\n",
    "\n",
    "ax.set_xlabel('Recency')\n",
    "ax.set_ylabel('Frequency')\n",
    "ax.set_zlabel('Monetary')\n",
    "\n",
    "plt.legend()\n",
    "plt.show()"
   ]
  },
  {
   "cell_type": "code",
   "execution_count": 26,
   "id": "832e1609",
   "metadata": {},
   "outputs": [
    {
     "data": {
      "text/html": [
       "<div>\n",
       "<style scoped>\n",
       "    .dataframe tbody tr th:only-of-type {\n",
       "        vertical-align: middle;\n",
       "    }\n",
       "\n",
       "    .dataframe tbody tr th {\n",
       "        vertical-align: top;\n",
       "    }\n",
       "\n",
       "    .dataframe thead th {\n",
       "        text-align: right;\n",
       "    }\n",
       "</style>\n",
       "<table border=\"1\" class=\"dataframe\">\n",
       "  <thead>\n",
       "    <tr style=\"text-align: right;\">\n",
       "      <th></th>\n",
       "      <th>recency</th>\n",
       "      <th>frequency</th>\n",
       "      <th>monetary</th>\n",
       "      <th>cluster</th>\n",
       "      <th>cluster_name</th>\n",
       "      <th>customer_id</th>\n",
       "    </tr>\n",
       "  </thead>\n",
       "  <tbody>\n",
       "    <tr>\n",
       "      <th>0</th>\n",
       "      <td>0.019830</td>\n",
       "      <td>0.769231</td>\n",
       "      <td>0.257702</td>\n",
       "      <td>2</td>\n",
       "      <td>platinum</td>\n",
       "      <td>1</td>\n",
       "    </tr>\n",
       "    <tr>\n",
       "      <th>1</th>\n",
       "      <td>0.362606</td>\n",
       "      <td>0.153846</td>\n",
       "      <td>0.189737</td>\n",
       "      <td>1</td>\n",
       "      <td>bronze</td>\n",
       "      <td>2</td>\n",
       "    </tr>\n",
       "    <tr>\n",
       "      <th>2</th>\n",
       "      <td>0.288952</td>\n",
       "      <td>0.538462</td>\n",
       "      <td>0.287222</td>\n",
       "      <td>3</td>\n",
       "      <td>gold</td>\n",
       "      <td>3</td>\n",
       "    </tr>\n",
       "    <tr>\n",
       "      <th>3</th>\n",
       "      <td>0.552408</td>\n",
       "      <td>0.076923</td>\n",
       "      <td>0.017592</td>\n",
       "      <td>1</td>\n",
       "      <td>bronze</td>\n",
       "      <td>4</td>\n",
       "    </tr>\n",
       "    <tr>\n",
       "      <th>4</th>\n",
       "      <td>0.045326</td>\n",
       "      <td>0.384615</td>\n",
       "      <td>0.204153</td>\n",
       "      <td>3</td>\n",
       "      <td>gold</td>\n",
       "      <td>5</td>\n",
       "    </tr>\n",
       "    <tr>\n",
       "      <th>...</th>\n",
       "      <td>...</td>\n",
       "      <td>...</td>\n",
       "      <td>...</td>\n",
       "      <td>...</td>\n",
       "      <td>...</td>\n",
       "      <td>...</td>\n",
       "    </tr>\n",
       "    <tr>\n",
       "      <th>3488</th>\n",
       "      <td>0.147309</td>\n",
       "      <td>0.153846</td>\n",
       "      <td>0.140136</td>\n",
       "      <td>0</td>\n",
       "      <td>silver</td>\n",
       "      <td>3497</td>\n",
       "    </tr>\n",
       "    <tr>\n",
       "      <th>3489</th>\n",
       "      <td>0.359773</td>\n",
       "      <td>0.384615</td>\n",
       "      <td>0.268772</td>\n",
       "      <td>3</td>\n",
       "      <td>gold</td>\n",
       "      <td>3498</td>\n",
       "    </tr>\n",
       "    <tr>\n",
       "      <th>3490</th>\n",
       "      <td>0.144476</td>\n",
       "      <td>0.461538</td>\n",
       "      <td>0.423925</td>\n",
       "      <td>3</td>\n",
       "      <td>gold</td>\n",
       "      <td>3499</td>\n",
       "    </tr>\n",
       "    <tr>\n",
       "      <th>3491</th>\n",
       "      <td>0.407932</td>\n",
       "      <td>0.384615</td>\n",
       "      <td>0.151892</td>\n",
       "      <td>1</td>\n",
       "      <td>bronze</td>\n",
       "      <td>3500</td>\n",
       "    </tr>\n",
       "    <tr>\n",
       "      <th>3492</th>\n",
       "      <td>0.237960</td>\n",
       "      <td>0.153846</td>\n",
       "      <td>0.021797</td>\n",
       "      <td>0</td>\n",
       "      <td>silver</td>\n",
       "      <td>5034</td>\n",
       "    </tr>\n",
       "  </tbody>\n",
       "</table>\n",
       "<p>3493 rows × 6 columns</p>\n",
       "</div>"
      ],
      "text/plain": [
       "       recency  frequency  monetary  cluster cluster_name  customer_id\n",
       "0     0.019830   0.769231  0.257702        2     platinum            1\n",
       "1     0.362606   0.153846  0.189737        1       bronze            2\n",
       "2     0.288952   0.538462  0.287222        3         gold            3\n",
       "3     0.552408   0.076923  0.017592        1       bronze            4\n",
       "4     0.045326   0.384615  0.204153        3         gold            5\n",
       "...        ...        ...       ...      ...          ...          ...\n",
       "3488  0.147309   0.153846  0.140136        0       silver         3497\n",
       "3489  0.359773   0.384615  0.268772        3         gold         3498\n",
       "3490  0.144476   0.461538  0.423925        3         gold         3499\n",
       "3491  0.407932   0.384615  0.151892        1       bronze         3500\n",
       "3492  0.237960   0.153846  0.021797        0       silver         5034\n",
       "\n",
       "[3493 rows x 6 columns]"
      ]
     },
     "execution_count": 26,
     "metadata": {},
     "output_type": "execute_result"
    }
   ],
   "source": [
    "#assign group names for each cluster \n",
    "\n",
    "condlist = [rfm['cluster'] == 2, rfm['cluster'] == 3, rfm['cluster'] == 0, rfm['cluster'] == 1]\n",
    "values = ['platinum', 'gold', 'silver', 'bronze']\n",
    "\n",
    "rfm['cluster_name'] = np.select(condlist, values).tolist()\n",
    "rfm['customer_id'] = customer_id\n",
    "rfm"
   ]
  },
  {
   "cell_type": "code",
   "execution_count": 27,
   "id": "f0de37d6",
   "metadata": {},
   "outputs": [],
   "source": [
    "#export the final table into excel for further analysis\n",
    "rfm.to_excel(r'C:\\\\Users\\\\weizh\\\\OneDrive\\\\文档\\\\customer_segmentation_result.xlsx')"
   ]
  }
 ],
 "metadata": {
  "kernelspec": {
   "display_name": "Python 3 (ipykernel)",
   "language": "python",
   "name": "python3"
  },
  "language_info": {
   "codemirror_mode": {
    "name": "ipython",
    "version": 3
   },
   "file_extension": ".py",
   "mimetype": "text/x-python",
   "name": "python",
   "nbconvert_exporter": "python",
   "pygments_lexer": "ipython3",
   "version": "3.9.7"
  }
 },
 "nbformat": 4,
 "nbformat_minor": 5
}
